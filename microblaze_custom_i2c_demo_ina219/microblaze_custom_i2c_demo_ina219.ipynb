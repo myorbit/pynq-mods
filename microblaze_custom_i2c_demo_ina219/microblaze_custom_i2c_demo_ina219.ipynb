{
 "cells": [
  {
   "cell_type": "markdown",
   "metadata": {},
   "source": [
    "# Custom I2C master demo using MicroBlaze and evaluating bytes transferred\n",
    "\n",
    "**One problem with the standard PYNQ library is that it does not return the length of bytes transferred to/from the slave. Modifying the library, as shown later, will overcome this missing feature. This demo presents three different ways of how to use the PMODA port to communicate with a INA219 current sensor from Adafruit via I2C.**\n",
    "\n",
    "(The demos were carried out on a PYNQ-Z1 with v2.1.)\n",
    "\n",
    "***"
   ]
  },
  {
   "cell_type": "markdown",
   "metadata": {},
   "source": [
    "## Modifications for method 1 and 2\n",
    "\n",
    "To run the first two methods and being able to determine how many bytes where transfered, the file ```i2c.h``` has to be modified. This can be done directly on the SD card (by starting a terminal in jupyter) and modify the file on path ```<PYNQ repository>/pynq/lib/pmod/bsp_iop_pmod/iop_pmod_mb/include/i2c.h```. Change the return value type of the read/write functions from ```void``` to ```unsigned int``` is all to return the bytes transfered via I2C:\n",
    "\n",
    "```C\n",
    "unsigned int i2c_read(i2c dev_id, unsigned int slave_address,\n",
    "              unsigned char* buffer, unsigned int length);\n",
    "unsigned int i2c_write(i2c dev_id, unsigned int slave_address,\n",
    "               unsigned char* buffer, unsigned int length);\n",
    "```"
   ]
  },
  {
   "cell_type": "markdown",
   "metadata": {},
   "source": [
    "### Method 1: I2C communication from Python directly (slowest)"
   ]
  },
  {
   "cell_type": "code",
   "execution_count": 1,
   "metadata": {},
   "outputs": [
    {
     "data": {
      "application/javascript": [
       "\n",
       "require(['notebook/js/codecell'], function(codecell) {\n",
       "  codecell.CodeCell.options_default.highlight_modes[\n",
       "      'magic_text/x-csrc'] = {'reg':[/^%%microblaze/]};\n",
       "  Jupyter.notebook.events.one('kernel_ready.Kernel', function(){\n",
       "      Jupyter.notebook.get_cells().map(function(cell){\n",
       "          if (cell.cell_type == 'code'){ cell.auto_highlight(); } }) ;\n",
       "  });\n",
       "});\n"
      ]
     },
     "metadata": {},
     "output_type": "display_data"
    }
   ],
   "source": [
    "from pynq.overlays.base import BaseOverlay\n",
    "from pynq.lib import MicroblazeLibrary\n",
    "\n",
    "base = BaseOverlay('base.bit')\n",
    "\n",
    "lib = MicroblazeLibrary(base.PMODA, ['i2c', 'pmod_grove'])\n",
    "\n",
    "device = lib.i2c_open(lib.PMOD_G4_B, lib.PMOD_G4_A)"
   ]
  },
  {
   "cell_type": "code",
   "execution_count": 2,
   "metadata": {},
   "outputs": [
    {
     "name": "stdout",
     "output_type": "stream",
     "text": [
      "3\n",
      "2\n"
     ]
    },
    {
     "data": {
      "text/plain": [
       "4096"
      ]
     },
     "execution_count": 2,
     "metadata": {},
     "output_type": "execute_result"
    }
   ],
   "source": [
    "# Set Calibration register value and read back its value\n",
    "\n",
    "buf = bytearray(3)\n",
    "buf[0] = 0\n",
    "buf[1] = 80\n",
    "buf[2] = 0\n",
    "len_bytes = 0xAA\n",
    "len_bytes = device.write(0x40, buf, 3)\n",
    "print(len_bytes)\n",
    "len_bytes = device.read(0x40, buf, 2)\n",
    "print(len_bytes)\n",
    "\n",
    "((buf[0] & 0xFF) << 8) | buf[1] # value returned from INA219"
   ]
  },
  {
   "cell_type": "markdown",
   "metadata": {},
   "source": [
    "### Method 2: I2C communication from Python using MicroBlaze magic (faster)"
   ]
  },
  {
   "cell_type": "code",
   "execution_count": 3,
   "metadata": {},
   "outputs": [],
   "source": [
    "%%microblaze base.PMODA\n",
    "#include <i2c.h>\n",
    "#include <pmod_grove.h>\n",
    "#include <pyprintf.h>\n",
    "\n",
    "i2c device;\n",
    "\n",
    "int ina219_open() {\n",
    "    device = i2c_open(PMOD_G4_B, PMOD_G4_A);\n",
    "}\n",
    "\n",
    "int ina219_read(unsigned char addr) {\n",
    "    unsigned char buf[2];\n",
    "    buf[0] = addr;\n",
    "    i2c_write(device, 0x40, buf, 1); // read pointer set to register\n",
    "    i2c_read(device, 0x40, buf, 2);\n",
    "    return ((buf[0]) << 8) | buf[1];\n",
    "}\n",
    "\n",
    "int ina219_write(unsigned char addr, unsigned char msbyte, unsigned char lsbyte) {\n",
    "    unsigned char buf[3];\n",
    "    unsigned int len = 0xAA; // dummy value to test for length transfered\n",
    "    \n",
    "    buf[0] = addr;\n",
    "    buf[1] = msbyte;\n",
    "    buf[2] = lsbyte;\n",
    "    len = i2c_write(device, 0x40, buf, 3); // write pointer set to register\n",
    "    pyprintf(\"Bytes written: %d\\n\", len);\n",
    "    \n",
    "    len = 0xAA; // Reset to known value\n",
    "    len = i2c_read(device, 0x40, buf, 2);\n",
    "    pyprintf(\"Bytes read: %d\\n\", len);\n",
    "\n",
    "    return ((buf[0]) << 8) | buf[1];    \n",
    "}\n",
    "\n",
    "int print_hex(unsigned int val) {\n",
    "    pyprintf(\"Values: 0x%x\\n\", val);\n",
    "    return 0;\n",
    "}"
   ]
  },
  {
   "cell_type": "code",
   "execution_count": 4,
   "metadata": {},
   "outputs": [
    {
     "data": {
      "text/plain": [
       "0"
      ]
     },
     "execution_count": 4,
     "metadata": {},
     "output_type": "execute_result"
    }
   ],
   "source": [
    "ina219_open()"
   ]
  },
  {
   "cell_type": "code",
   "execution_count": 5,
   "metadata": {},
   "outputs": [
    {
     "name": "stdout",
     "output_type": "stream",
     "text": [
      "Bytes written: 3\n",
      "Bytes read: 2\n",
      "Values: 0x1000\n"
     ]
    },
    {
     "data": {
      "text/plain": [
       "0"
      ]
     },
     "execution_count": 5,
     "metadata": {},
     "output_type": "execute_result"
    }
   ],
   "source": [
    "ret = ina219_write(0, 80, 0)\n",
    "print_hex(ret)"
   ]
  },
  {
   "cell_type": "code",
   "execution_count": 6,
   "metadata": {},
   "outputs": [
    {
     "name": "stdout",
     "output_type": "stream",
     "text": [
      "Values: 0x1000\n"
     ]
    },
    {
     "data": {
      "text/plain": [
       "0"
      ]
     },
     "execution_count": 6,
     "metadata": {},
     "output_type": "execute_result"
    }
   ],
   "source": [
    "config = ina219_read(0)\n",
    "print_hex(config)"
   ]
  },
  {
   "cell_type": "markdown",
   "metadata": {},
   "source": [
    "## Modifications to use method 3"
   ]
  },
  {
   "cell_type": "markdown",
   "metadata": {},
   "source": [
    "Using method requires deeper insight in how to write a custom application for the MicroBlaze system:\n",
    "https://pynq.readthedocs.io/en/v2.2.1/overlay_design_methodology/pynq_microblaze_subsystem.html\n",
    "\n",
    "This requires a couple of steps to be performed before using the example (unless you just download the pre-compiled binary and the Python code to the Pynq board).\n",
    "\n",
    "*Please do NOT confuse this procedure with \"Creating a New PYNQ Microblaze\" which creates a new softprocessor. This means it will create a new IOP instance with PYNQ MicroBlaze Subsystems. Instead, here we use one of the three IOPs (PMODA, PMODB, Arduino) already available.*\n",
    "\n",
    "\n",
    "**To be able to create a custom pre-compiled MicroBlaze binary file please refer to the [prerequisites](#Prerequisites-to-use-method-3) before proceeding.**\n",
    "\n",
    "\n",
    "Our custom project, e.g. ```<PYNQ repository>/pynq/lib/pmod/pmod_custom_i2c/``` contains two folders:\n",
    "```\n",
    "Debug/ -> makefile, linker scripts, etc.\n",
    "src/   -> actual source code\n",
    "```\n",
    "(This custom example project including the MicroBlaze and Python code can be found in the ```pmod_custom folder```.)\n",
    "\n",
    "Workflow for creating a pre-compiled MicroBlaze binary:\n",
    "\n",
    "1. Source SDK toolchain settings to put the MicroBlaze gcc compiler to the path: ```$ source /opt/Xilinx/SDK/2017.4/settings64.sh```\n",
    "2. Make sure the custom project is adapted (makefiles, etc. as described in the link above)\n",
    "3. Modify the functions on the host machine ```<PYNQ repository>/pynq/lib/pmod/bsp_iop_pmod/iop_pmod_mb/include/i2c.h``` to return a value of the type ```unsigned int```\n",
    "4. Compile the code with ```make``` in the ```Debug/``` folder.\n",
    "\n",
    "\n",
    "After compilation the binary can be downloaded to the PYNQ-Z1 board via SCP and the default password `xilinx`\n",
    "```\n",
    "$ scp pmod_custom_i2c.bin xilinx@192.168.2.99:/home/xilinx/pynq/lib/pmod\n",
    "```\n",
    "\n",
    "Now we have the pre-compiled PYNQ MicroBlaze driver on the Pynq board, the Python class must be located on the Pynq board ```/home/xilinx/pynq/lib/pmod/pmod_custom_i2c.py``` to communicate with it."
   ]
  },
  {
   "cell_type": "markdown",
   "metadata": {},
   "source": [
    "### Method 3: Custom (pre-compiled) MicroBlaze binary (faster)"
   ]
  },
  {
   "cell_type": "code",
   "execution_count": 7,
   "metadata": {},
   "outputs": [],
   "source": [
    "from pynq.overlays.base import BaseOverlay\n",
    "base = BaseOverlay('base.bit')"
   ]
  },
  {
   "cell_type": "code",
   "execution_count": 8,
   "metadata": {},
   "outputs": [],
   "source": [
    "from pynq.lib.pmod import Custom_I2C\n",
    "from pynq.lib.pmod import PMOD_GROVE_G4\n",
    "\n",
    "c = Custom_I2C(base.PMODA, PMOD_GROVE_G4)"
   ]
  },
  {
   "cell_type": "code",
   "execution_count": 9,
   "metadata": {
    "scrolled": true
   },
   "outputs": [
    {
     "name": "stdout",
     "output_type": "stream",
     "text": [
      "2\n"
     ]
    }
   ],
   "source": [
    "print(c.get_value())"
   ]
  },
  {
   "cell_type": "markdown",
   "metadata": {},
   "source": [
    "## Prerequisites to use method 3\n",
    "\n",
    "In order to compile code for the MicroBlaze processor please follow the process described here.\n",
    "\n",
    "Please also refer to the ```<PYNQ repository/sdbuild/README.md``` for futher information for the host setup."
   ]
  },
  {
   "cell_type": "markdown",
   "metadata": {},
   "source": [
    "### Install Ubuntu and VirtualBox\n",
    "\n",
    "* Install Oracle VM VirtualBox\n",
    "* Install Ubuntu 16.04 LTS with automatic login\n",
    "\n",
    "\n",
    "```\n",
    "$ sudo adduser <username> sudo\n",
    "$ sudo adduser <username> vboxsf\n",
    "```\n",
    "\n",
    "* Install 32-bit libraries required for later Vivado installation:\n",
    "\n",
    "```\n",
    "$ sudo dpkg --add-architecture i386\n",
    "$ sudo apt-get udpate\n",
    "$ sudo apt-get install libz1:386 libncurses5:i386 libbz2-1.0:i386 libstdc++6:i386 \n",
    "```"
   ]
  },
  {
   "cell_type": "markdown",
   "metadata": {},
   "source": [
    "### Install Xilinx SDK\n",
    "\n",
    "* Download Xilinx Vivado SDK WebPack 2017.4 (Xilinx_Vivado_SDK_Web_2017.4_1216_1_Lin64.bin)\n",
    "* For ease of usage create a folder on /home directory with a symbolic link to the default directory where Xilinx want to be installed.\n",
    "\n",
    "```\n",
    "sudo mkdir /home/Xilinx\n",
    "sudo chmod 777 /home/Xilinx\n",
    "sudo ln -s /home/Xilinx /opt/Xilinx\n",
    "```\n",
    "\n",
    "* Install the SDK as described by the Xilinx User Guide to ```/opt/Xilinx```"
   ]
  },
  {
   "cell_type": "markdown",
   "metadata": {},
   "source": [
    "### Setup host for PYNQ\n",
    "\n",
    "* Modify script ```<PYNQ repository>/sdbuild/scripts/setup_host.sh``` before executing: Substitute ```lib32bz2-1.0``` with ```libbz2-1.0:i386```\n",
    "* The ```<PYNQ repositoy>``` must be on a local path, not on the shared folder. Otherwise it will fail!\n",
    "* Please note: Executing the script assumes a host with a passwordless sudo."
   ]
  }
 ],
 "metadata": {
  "kernelspec": {
   "display_name": "Python 3",
   "language": "python",
   "name": "python3"
  },
  "language_info": {
   "codemirror_mode": {
    "name": "ipython",
    "version": 3
   },
   "file_extension": ".py",
   "mimetype": "text/x-python",
   "name": "python",
   "nbconvert_exporter": "python",
   "pygments_lexer": "ipython3",
   "version": "3.7.1"
  }
 },
 "nbformat": 4,
 "nbformat_minor": 2
}
